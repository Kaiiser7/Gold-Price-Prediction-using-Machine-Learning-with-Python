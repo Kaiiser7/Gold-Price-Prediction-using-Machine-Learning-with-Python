{
  "nbformat": 4,
  "nbformat_minor": 0,
  "metadata": {
    "colab": {
      "name": "Gold Price Prediction.ipynb",
      "provenance": [],
      "collapsed_sections": [],
      "authorship_tag": "ABX9TyMVpJRWVR1984fiJOmlKquu",
      "include_colab_link": true
    },
    "kernelspec": {
      "name": "python3",
      "display_name": "Python 3"
    },
    "language_info": {
      "name": "python"
    }
  },
  "cells": [
    {
      "cell_type": "markdown",
      "metadata": {
        "id": "view-in-github",
        "colab_type": "text"
      },
      "source": [
        "<a href=\"https://colab.research.google.com/github/Kaiiser7/Gold-Price-Prediction-using-Machine-Learning-with-Python/blob/main/Gold_Price_Prediction.ipynb\" target=\"_parent\"><img src=\"https://colab.research.google.com/assets/colab-badge.svg\" alt=\"Open In Colab\"/></a>"
      ]
    },
    {
      "cell_type": "markdown",
      "metadata": {
        "id": "MgdlUzoOz1HE"
      },
      "source": [
        "Importing the Libraries"
      ]
    },
    {
      "cell_type": "code",
      "metadata": {
        "id": "0EA6MtrPy8UN"
      },
      "source": [
        "import numpy as np\n",
        "import pandas as pd\n",
        "import matplotlib.pyplot as plt\n",
        "import seaborn as sns\n",
        "from sklearn.model_selection import train_test_split\n",
        "from sklearn.ensemble import RandomForestRegressor\n",
        "from sklearn import metrics"
      ],
      "execution_count": 1,
      "outputs": []
    },
    {
      "cell_type": "markdown",
      "metadata": {
        "id": "gAsZwPwhz9ld"
      },
      "source": [
        "Data Collection and Preproocessing"
      ]
    },
    {
      "cell_type": "code",
      "metadata": {
        "id": "zPTPjZqPz6O1"
      },
      "source": [
        "#loading the csv dataset to a pandas dataframe\n",
        "gold_data = pd.read_csv('/content/gld_price_data.csv')"
      ],
      "execution_count": 3,
      "outputs": []
    },
    {
      "cell_type": "code",
      "metadata": {
        "colab": {
          "base_uri": "https://localhost:8080/",
          "height": 203
        },
        "id": "AtirNXmJ0IW_",
        "outputId": "337bff20-6ad6-4404-83e5-c62571368515"
      },
      "source": [
        "gold_data.head()"
      ],
      "execution_count": 4,
      "outputs": [
        {
          "output_type": "execute_result",
          "data": {
            "text/html": [
              "<div>\n",
              "<style scoped>\n",
              "    .dataframe tbody tr th:only-of-type {\n",
              "        vertical-align: middle;\n",
              "    }\n",
              "\n",
              "    .dataframe tbody tr th {\n",
              "        vertical-align: top;\n",
              "    }\n",
              "\n",
              "    .dataframe thead th {\n",
              "        text-align: right;\n",
              "    }\n",
              "</style>\n",
              "<table border=\"1\" class=\"dataframe\">\n",
              "  <thead>\n",
              "    <tr style=\"text-align: right;\">\n",
              "      <th></th>\n",
              "      <th>Date</th>\n",
              "      <th>SPX</th>\n",
              "      <th>GLD</th>\n",
              "      <th>USO</th>\n",
              "      <th>SLV</th>\n",
              "      <th>EUR/USD</th>\n",
              "    </tr>\n",
              "  </thead>\n",
              "  <tbody>\n",
              "    <tr>\n",
              "      <th>0</th>\n",
              "      <td>1/2/2008</td>\n",
              "      <td>1447.160034</td>\n",
              "      <td>84.860001</td>\n",
              "      <td>78.470001</td>\n",
              "      <td>15.180</td>\n",
              "      <td>1.471692</td>\n",
              "    </tr>\n",
              "    <tr>\n",
              "      <th>1</th>\n",
              "      <td>1/3/2008</td>\n",
              "      <td>1447.160034</td>\n",
              "      <td>85.570000</td>\n",
              "      <td>78.370003</td>\n",
              "      <td>15.285</td>\n",
              "      <td>1.474491</td>\n",
              "    </tr>\n",
              "    <tr>\n",
              "      <th>2</th>\n",
              "      <td>1/4/2008</td>\n",
              "      <td>1411.630005</td>\n",
              "      <td>85.129997</td>\n",
              "      <td>77.309998</td>\n",
              "      <td>15.167</td>\n",
              "      <td>1.475492</td>\n",
              "    </tr>\n",
              "    <tr>\n",
              "      <th>3</th>\n",
              "      <td>1/7/2008</td>\n",
              "      <td>1416.180054</td>\n",
              "      <td>84.769997</td>\n",
              "      <td>75.500000</td>\n",
              "      <td>15.053</td>\n",
              "      <td>1.468299</td>\n",
              "    </tr>\n",
              "    <tr>\n",
              "      <th>4</th>\n",
              "      <td>1/8/2008</td>\n",
              "      <td>1390.189941</td>\n",
              "      <td>86.779999</td>\n",
              "      <td>76.059998</td>\n",
              "      <td>15.590</td>\n",
              "      <td>1.557099</td>\n",
              "    </tr>\n",
              "  </tbody>\n",
              "</table>\n",
              "</div>"
            ],
            "text/plain": [
              "       Date          SPX        GLD        USO     SLV   EUR/USD\n",
              "0  1/2/2008  1447.160034  84.860001  78.470001  15.180  1.471692\n",
              "1  1/3/2008  1447.160034  85.570000  78.370003  15.285  1.474491\n",
              "2  1/4/2008  1411.630005  85.129997  77.309998  15.167  1.475492\n",
              "3  1/7/2008  1416.180054  84.769997  75.500000  15.053  1.468299\n",
              "4  1/8/2008  1390.189941  86.779999  76.059998  15.590  1.557099"
            ]
          },
          "metadata": {
            "tags": []
          },
          "execution_count": 4
        }
      ]
    },
    {
      "cell_type": "code",
      "metadata": {
        "colab": {
          "base_uri": "https://localhost:8080/",
          "height": 203
        },
        "id": "qEHGU9r90TxM",
        "outputId": "833addab-50e5-4568-9e63-e962bd9e1f80"
      },
      "source": [
        "gold_data.tail()"
      ],
      "execution_count": 5,
      "outputs": [
        {
          "output_type": "execute_result",
          "data": {
            "text/html": [
              "<div>\n",
              "<style scoped>\n",
              "    .dataframe tbody tr th:only-of-type {\n",
              "        vertical-align: middle;\n",
              "    }\n",
              "\n",
              "    .dataframe tbody tr th {\n",
              "        vertical-align: top;\n",
              "    }\n",
              "\n",
              "    .dataframe thead th {\n",
              "        text-align: right;\n",
              "    }\n",
              "</style>\n",
              "<table border=\"1\" class=\"dataframe\">\n",
              "  <thead>\n",
              "    <tr style=\"text-align: right;\">\n",
              "      <th></th>\n",
              "      <th>Date</th>\n",
              "      <th>SPX</th>\n",
              "      <th>GLD</th>\n",
              "      <th>USO</th>\n",
              "      <th>SLV</th>\n",
              "      <th>EUR/USD</th>\n",
              "    </tr>\n",
              "  </thead>\n",
              "  <tbody>\n",
              "    <tr>\n",
              "      <th>2285</th>\n",
              "      <td>5/8/2018</td>\n",
              "      <td>2671.919922</td>\n",
              "      <td>124.589996</td>\n",
              "      <td>14.0600</td>\n",
              "      <td>15.5100</td>\n",
              "      <td>1.186789</td>\n",
              "    </tr>\n",
              "    <tr>\n",
              "      <th>2286</th>\n",
              "      <td>5/9/2018</td>\n",
              "      <td>2697.790039</td>\n",
              "      <td>124.330002</td>\n",
              "      <td>14.3700</td>\n",
              "      <td>15.5300</td>\n",
              "      <td>1.184722</td>\n",
              "    </tr>\n",
              "    <tr>\n",
              "      <th>2287</th>\n",
              "      <td>5/10/2018</td>\n",
              "      <td>2723.070068</td>\n",
              "      <td>125.180000</td>\n",
              "      <td>14.4100</td>\n",
              "      <td>15.7400</td>\n",
              "      <td>1.191753</td>\n",
              "    </tr>\n",
              "    <tr>\n",
              "      <th>2288</th>\n",
              "      <td>5/14/2018</td>\n",
              "      <td>2730.129883</td>\n",
              "      <td>124.489998</td>\n",
              "      <td>14.3800</td>\n",
              "      <td>15.5600</td>\n",
              "      <td>1.193118</td>\n",
              "    </tr>\n",
              "    <tr>\n",
              "      <th>2289</th>\n",
              "      <td>5/16/2018</td>\n",
              "      <td>2725.780029</td>\n",
              "      <td>122.543800</td>\n",
              "      <td>14.4058</td>\n",
              "      <td>15.4542</td>\n",
              "      <td>1.182033</td>\n",
              "    </tr>\n",
              "  </tbody>\n",
              "</table>\n",
              "</div>"
            ],
            "text/plain": [
              "           Date          SPX         GLD      USO      SLV   EUR/USD\n",
              "2285   5/8/2018  2671.919922  124.589996  14.0600  15.5100  1.186789\n",
              "2286   5/9/2018  2697.790039  124.330002  14.3700  15.5300  1.184722\n",
              "2287  5/10/2018  2723.070068  125.180000  14.4100  15.7400  1.191753\n",
              "2288  5/14/2018  2730.129883  124.489998  14.3800  15.5600  1.193118\n",
              "2289  5/16/2018  2725.780029  122.543800  14.4058  15.4542  1.182033"
            ]
          },
          "metadata": {
            "tags": []
          },
          "execution_count": 5
        }
      ]
    },
    {
      "cell_type": "code",
      "metadata": {
        "colab": {
          "base_uri": "https://localhost:8080/"
        },
        "id": "bsr4L0vs0YXj",
        "outputId": "46424cd9-3c37-4aed-e123-da7f4ca28d98"
      },
      "source": [
        "gold_data.shape"
      ],
      "execution_count": 6,
      "outputs": [
        {
          "output_type": "execute_result",
          "data": {
            "text/plain": [
              "(2290, 6)"
            ]
          },
          "metadata": {
            "tags": []
          },
          "execution_count": 6
        }
      ]
    },
    {
      "cell_type": "code",
      "metadata": {
        "colab": {
          "base_uri": "https://localhost:8080/"
        },
        "id": "RUBBe1xo0cZW",
        "outputId": "1b87acfc-cf50-4ded-b43e-000a0b1d0f05"
      },
      "source": [
        "#getting some basic information about the data\n",
        "gold_data.info()"
      ],
      "execution_count": 7,
      "outputs": [
        {
          "output_type": "stream",
          "text": [
            "<class 'pandas.core.frame.DataFrame'>\n",
            "RangeIndex: 2290 entries, 0 to 2289\n",
            "Data columns (total 6 columns):\n",
            " #   Column   Non-Null Count  Dtype  \n",
            "---  ------   --------------  -----  \n",
            " 0   Date     2290 non-null   object \n",
            " 1   SPX      2290 non-null   float64\n",
            " 2   GLD      2290 non-null   float64\n",
            " 3   USO      2290 non-null   float64\n",
            " 4   SLV      2290 non-null   float64\n",
            " 5   EUR/USD  2290 non-null   float64\n",
            "dtypes: float64(5), object(1)\n",
            "memory usage: 107.5+ KB\n"
          ],
          "name": "stdout"
        }
      ]
    },
    {
      "cell_type": "code",
      "metadata": {
        "colab": {
          "base_uri": "https://localhost:8080/"
        },
        "id": "DHBBAcuz0gx-",
        "outputId": "077fbd38-699e-4ce1-9ddd-bb8688d50256"
      },
      "source": [
        "#checking the number of missing values\n",
        "gold_data.isnull().sum()"
      ],
      "execution_count": 8,
      "outputs": [
        {
          "output_type": "execute_result",
          "data": {
            "text/plain": [
              "Date       0\n",
              "SPX        0\n",
              "GLD        0\n",
              "USO        0\n",
              "SLV        0\n",
              "EUR/USD    0\n",
              "dtype: int64"
            ]
          },
          "metadata": {
            "tags": []
          },
          "execution_count": 8
        }
      ]
    },
    {
      "cell_type": "code",
      "metadata": {
        "colab": {
          "base_uri": "https://localhost:8080/",
          "height": 295
        },
        "id": "fTH1r7Ys0qU_",
        "outputId": "41132404-9b98-4e69-9156-209209716176"
      },
      "source": [
        "#getting the statistical measures of the data\n",
        "gold_data.describe()"
      ],
      "execution_count": 9,
      "outputs": [
        {
          "output_type": "execute_result",
          "data": {
            "text/html": [
              "<div>\n",
              "<style scoped>\n",
              "    .dataframe tbody tr th:only-of-type {\n",
              "        vertical-align: middle;\n",
              "    }\n",
              "\n",
              "    .dataframe tbody tr th {\n",
              "        vertical-align: top;\n",
              "    }\n",
              "\n",
              "    .dataframe thead th {\n",
              "        text-align: right;\n",
              "    }\n",
              "</style>\n",
              "<table border=\"1\" class=\"dataframe\">\n",
              "  <thead>\n",
              "    <tr style=\"text-align: right;\">\n",
              "      <th></th>\n",
              "      <th>SPX</th>\n",
              "      <th>GLD</th>\n",
              "      <th>USO</th>\n",
              "      <th>SLV</th>\n",
              "      <th>EUR/USD</th>\n",
              "    </tr>\n",
              "  </thead>\n",
              "  <tbody>\n",
              "    <tr>\n",
              "      <th>count</th>\n",
              "      <td>2290.000000</td>\n",
              "      <td>2290.000000</td>\n",
              "      <td>2290.000000</td>\n",
              "      <td>2290.000000</td>\n",
              "      <td>2290.000000</td>\n",
              "    </tr>\n",
              "    <tr>\n",
              "      <th>mean</th>\n",
              "      <td>1654.315776</td>\n",
              "      <td>122.732875</td>\n",
              "      <td>31.842221</td>\n",
              "      <td>20.084997</td>\n",
              "      <td>1.283653</td>\n",
              "    </tr>\n",
              "    <tr>\n",
              "      <th>std</th>\n",
              "      <td>519.111540</td>\n",
              "      <td>23.283346</td>\n",
              "      <td>19.523517</td>\n",
              "      <td>7.092566</td>\n",
              "      <td>0.131547</td>\n",
              "    </tr>\n",
              "    <tr>\n",
              "      <th>min</th>\n",
              "      <td>676.530029</td>\n",
              "      <td>70.000000</td>\n",
              "      <td>7.960000</td>\n",
              "      <td>8.850000</td>\n",
              "      <td>1.039047</td>\n",
              "    </tr>\n",
              "    <tr>\n",
              "      <th>25%</th>\n",
              "      <td>1239.874969</td>\n",
              "      <td>109.725000</td>\n",
              "      <td>14.380000</td>\n",
              "      <td>15.570000</td>\n",
              "      <td>1.171313</td>\n",
              "    </tr>\n",
              "    <tr>\n",
              "      <th>50%</th>\n",
              "      <td>1551.434998</td>\n",
              "      <td>120.580002</td>\n",
              "      <td>33.869999</td>\n",
              "      <td>17.268500</td>\n",
              "      <td>1.303296</td>\n",
              "    </tr>\n",
              "    <tr>\n",
              "      <th>75%</th>\n",
              "      <td>2073.010070</td>\n",
              "      <td>132.840004</td>\n",
              "      <td>37.827501</td>\n",
              "      <td>22.882499</td>\n",
              "      <td>1.369971</td>\n",
              "    </tr>\n",
              "    <tr>\n",
              "      <th>max</th>\n",
              "      <td>2872.870117</td>\n",
              "      <td>184.589996</td>\n",
              "      <td>117.480003</td>\n",
              "      <td>47.259998</td>\n",
              "      <td>1.598798</td>\n",
              "    </tr>\n",
              "  </tbody>\n",
              "</table>\n",
              "</div>"
            ],
            "text/plain": [
              "               SPX          GLD          USO          SLV      EUR/USD\n",
              "count  2290.000000  2290.000000  2290.000000  2290.000000  2290.000000\n",
              "mean   1654.315776   122.732875    31.842221    20.084997     1.283653\n",
              "std     519.111540    23.283346    19.523517     7.092566     0.131547\n",
              "min     676.530029    70.000000     7.960000     8.850000     1.039047\n",
              "25%    1239.874969   109.725000    14.380000    15.570000     1.171313\n",
              "50%    1551.434998   120.580002    33.869999    17.268500     1.303296\n",
              "75%    2073.010070   132.840004    37.827501    22.882499     1.369971\n",
              "max    2872.870117   184.589996   117.480003    47.259998     1.598798"
            ]
          },
          "metadata": {
            "tags": []
          },
          "execution_count": 9
        }
      ]
    },
    {
      "cell_type": "markdown",
      "metadata": {
        "id": "UlxBpV7c0_Dt"
      },
      "source": [
        "Correlation:\n",
        "1. Positive Correlation\n",
        "2. Negative Correlation"
      ]
    },
    {
      "cell_type": "code",
      "metadata": {
        "id": "z8PazOhB0uas"
      },
      "source": [
        "correlation = gold_data.corr()"
      ],
      "execution_count": 10,
      "outputs": []
    },
    {
      "cell_type": "code",
      "metadata": {
        "colab": {
          "base_uri": "https://localhost:8080/",
          "height": 487
        },
        "id": "ZLEIszw31Gf4",
        "outputId": "1e2bfdbb-f281-4eef-f821-350b077abbfa"
      },
      "source": [
        "#constructing a heatmap to understand the correlation\n",
        "plt.figure(figsize = (8,8))\n",
        "sns.heatmap(correlation, cbar=True, square=True, fmt='.1f',annot=True, annot_kws={'size':8}, cmap='Blues')"
      ],
      "execution_count": 11,
      "outputs": [
        {
          "output_type": "execute_result",
          "data": {
            "text/plain": [
              "<matplotlib.axes._subplots.AxesSubplot at 0x7fee10e12b10>"
            ]
          },
          "metadata": {
            "tags": []
          },
          "execution_count": 11
        },
        {
          "output_type": "display_data",
          "data": {
            "image/png": "[encoded data removed]",
            "text/plain": [
              "<Figure size 576x576 with 2 Axes>"
            ]
          },
          "metadata": {
            "tags": [],
            "needs_background": "light"
          }
        }
      ]
    },
    {
      "cell_type": "code",
      "metadata": {
        "colab": {
          "base_uri": "https://localhost:8080/"
        },
        "id": "vBMuvOg71Q3R",
        "outputId": "d2f38031-2fd0-4181-a958-080bfa7b1598"
      },
      "source": [
        "#correlation values of GLD\n",
        "print(correlation['GLD'])"
      ],
      "execution_count": 12,
      "outputs": [
        {
          "output_type": "stream",
          "text": [
            "SPX        0.049345\n",
            "GLD        1.000000\n",
            "USO       -0.186360\n",
            "SLV        0.866632\n",
            "EUR/USD   -0.024375\n",
            "Name: GLD, dtype: float64\n"
          ],
          "name": "stdout"
        }
      ]
    },
    {
      "cell_type": "code",
      "metadata": {
        "colab": {
          "base_uri": "https://localhost:8080/",
          "height": 354
        },
        "id": "KsL6-Y4y1Xa0",
        "outputId": "adbe880f-69dd-41f4-8caa-4a5b1fd54411"
      },
      "source": [
        "#checking the distribution of the GLD Price\n",
        "sns.distplot(gold_data['GLD'],color='green')"
      ],
      "execution_count": 13,
      "outputs": [
        {
          "output_type": "stream",
          "text": [
            "/usr/local/lib/python3.7/dist-packages/seaborn/distributions.py:2557: FutureWarning: `distplot` is a deprecated function and will be removed in a future version. Please adapt your code to use either `displot` (a figure-level function with similar flexibility) or `histplot` (an axes-level function for histograms).\n",
            "  warnings.warn(msg, FutureWarning)\n"
          ],
          "name": "stderr"
        },
        {
          "output_type": "execute_result",
          "data": {
            "text/plain": [
              "<matplotlib.axes._subplots.AxesSubplot at 0x7fee08c7fad0>"
            ]
          },
          "metadata": {
            "tags": []
          },
          "execution_count": 13
        },
        {
          "output_type": "display_data",
          "data": {
            "image/png": "[encoded data removed]",
            "text/plain": [
              "<Figure size 432x288 with 1 Axes>"
            ]
          },
          "metadata": {
            "tags": [],
            "needs_background": "light"
          }
        }
      ]
    },
    {
      "cell_type": "markdown",
      "metadata": {
        "id": "9FpveMyd1n3l"
      },
      "source": [
        "Splitting the Features and Target"
      ]
    },
    {
      "cell_type": "code",
      "metadata": {
        "id": "s6Ks2rwH1hq5"
      },
      "source": [
        "X = gold_data.drop(['Date','GLD'],axis=1)\n",
        "Y = gold_data['GLD']"
      ],
      "execution_count": 14,
      "outputs": []
    },
    {
      "cell_type": "code",
      "metadata": {
        "colab": {
          "base_uri": "https://localhost:8080/"
        },
        "id": "PGvPwUzZ3AfB",
        "outputId": "a12bf9e0-34e0-4d1a-bf10-67f05e94668e"
      },
      "source": [
        "print(X)"
      ],
      "execution_count": 15,
      "outputs": [
        {
          "output_type": "stream",
          "text": [
            "              SPX        USO      SLV   EUR/USD\n",
            "0     1447.160034  78.470001  15.1800  1.471692\n",
            "1     1447.160034  78.370003  15.2850  1.474491\n",
            "2     1411.630005  77.309998  15.1670  1.475492\n",
            "3     1416.180054  75.500000  15.0530  1.468299\n",
            "4     1390.189941  76.059998  15.5900  1.557099\n",
            "...           ...        ...      ...       ...\n",
            "2285  2671.919922  14.060000  15.5100  1.186789\n",
            "2286  2697.790039  14.370000  15.5300  1.184722\n",
            "2287  2723.070068  14.410000  15.7400  1.191753\n",
            "2288  2730.129883  14.380000  15.5600  1.193118\n",
            "2289  2725.780029  14.405800  15.4542  1.182033\n",
            "\n",
            "[2290 rows x 4 columns]\n"
          ],
          "name": "stdout"
        }
      ]
    },
    {
      "cell_type": "code",
      "metadata": {
        "colab": {
          "base_uri": "https://localhost:8080/"
        },
        "id": "Brx9HyNN3CnU",
        "outputId": "e5de0cac-a6a2-4b9b-fac7-0fc407d13ee8"
      },
      "source": [
        "print(Y)"
      ],
      "execution_count": 16,
      "outputs": [
        {
          "output_type": "stream",
          "text": [
            "0        84.860001\n",
            "1        85.570000\n",
            "2        85.129997\n",
            "3        84.769997\n",
            "4        86.779999\n",
            "           ...    \n",
            "2285    124.589996\n",
            "2286    124.330002\n",
            "2287    125.180000\n",
            "2288    124.489998\n",
            "2289    122.543800\n",
            "Name: GLD, Length: 2290, dtype: float64\n"
          ],
          "name": "stdout"
        }
      ]
    },
    {
      "cell_type": "markdown",
      "metadata": {
        "id": "jcf-1brT3KVW"
      },
      "source": [
        "Train and Test Split"
      ]
    },
    {
      "cell_type": "code",
      "metadata": {
        "id": "6FV9OONL3HPt"
      },
      "source": [
        "X_train, X_test, Y_train, Y_test = train_test_split(X, Y, test_size = 0.2, random_state=2)"
      ],
      "execution_count": 17,
      "outputs": []
    },
    {
      "cell_type": "markdown",
      "metadata": {
        "id": "xhY8--5i3dJK"
      },
      "source": [
        "Random Forest Regression Model Training"
      ]
    },
    {
      "cell_type": "code",
      "metadata": {
        "id": "-a7IPCH83WEa"
      },
      "source": [
        "regressor = RandomForestRegressor(n_estimators=100)"
      ],
      "execution_count": 19,
      "outputs": []
    },
    {
      "cell_type": "code",
      "metadata": {
        "colab": {
          "base_uri": "https://localhost:8080/"
        },
        "id": "kPg9laIh3bwY",
        "outputId": "537e9f9b-82ce-4ba7-9ca4-e4a4004175a5"
      },
      "source": [
        "#training the model\n",
        "regressor.fit(X_train,Y_train)"
      ],
      "execution_count": 20,
      "outputs": [
        {
          "output_type": "execute_result",
          "data": {
            "text/plain": [
              "RandomForestRegressor(bootstrap=True, ccp_alpha=0.0, criterion='mse',\n",
              "                      max_depth=None, max_features='auto', max_leaf_nodes=None,\n",
              "                      max_samples=None, min_impurity_decrease=0.0,\n",
              "                      min_impurity_split=None, min_samples_leaf=1,\n",
              "                      min_samples_split=2, min_weight_fraction_leaf=0.0,\n",
              "                      n_estimators=100, n_jobs=None, oob_score=False,\n",
              "                      random_state=None, verbose=0, warm_start=False)"
            ]
          },
          "metadata": {
            "tags": []
          },
          "execution_count": 20
        }
      ]
    },
    {
      "cell_type": "markdown",
      "metadata": {
        "id": "zCrir9103kmz"
      },
      "source": [
        "Model Evaluation"
      ]
    },
    {
      "cell_type": "code",
      "metadata": {
        "id": "_kzDPLDQ3iWs"
      },
      "source": [
        "#prediction on Test Data\n",
        "test_data_prediction = regressor.predict(X_test)"
      ],
      "execution_count": 21,
      "outputs": []
    },
    {
      "cell_type": "code",
      "metadata": {
        "colab": {
          "base_uri": "https://localhost:8080/"
        },
        "id": "oxgxXSlX3myu",
        "outputId": "10614a32-defd-4e0c-f5cd-774211aa5b8c"
      },
      "source": [
        "print(test_data_prediction)"
      ],
      "execution_count": 22,
      "outputs": [
        {
          "output_type": "stream",
          "text": [
            "[168.59529936  82.00829977 115.94550044 127.61370063 120.83870112\n",
            " 154.70659785 150.5096986  126.22080027 117.68479887 125.9901008\n",
            " 116.7251008  171.35860105 141.72419898 167.94979899 115.13640011\n",
            " 117.64200023 137.56070327 170.21510095 159.76030226 158.93639886\n",
            " 154.94109991 125.46120009 175.01820006 156.96940326 125.19850028\n",
            "  93.99679975  77.76669975 120.45870011 119.11129965 167.41740001\n",
            "  88.10610071 125.4324002   91.22690076 117.55370025 121.10299924\n",
            " 137.31570149 115.40460114 115.71160109 149.55300001 107.2013012\n",
            " 104.48220229  87.124698   126.53200064 117.42340002 152.3522986\n",
            " 119.67990021 108.2728004  107.85269832  93.10060043 127.06389793\n",
            "  75.46710006 113.65949902 121.38090003 111.3021991  118.92589899\n",
            " 120.84329942 158.88369925 168.71030002 147.1525972   85.9438988\n",
            "  94.33740035  86.75649886  90.51670015 119.10220071 126.37560051\n",
            " 127.62499997 170.5194995  122.34479932 117.58849888  98.39030006\n",
            " 168.33410086 142.78929834 132.02050287 121.29120216 120.96039951\n",
            " 119.70380071 114.47320166 118.28300053 107.18480092 127.79620064\n",
            " 113.98649977 107.72939961 116.77740085 119.79039886  88.64470032\n",
            "  88.31569885 146.69410247 127.13550006 113.38080059 110.2035983\n",
            " 108.29229898  77.22579871 169.66800171 114.03199906 121.52249919\n",
            " 128.13890211 154.83949824  91.7082994  136.42550112 158.72560266\n",
            " 125.80180088 125.4530008  130.57130162 114.74490124 119.74869976\n",
            "  92.06119972 110.39419907 167.85629911 156.87699905 114.20359939\n",
            " 106.65950142  79.68379959 113.22630048 125.78610065 107.20169917\n",
            " 119.55190055 155.48710347 159.68999919 120.29330028 133.81950283\n",
            " 100.99090004 117.307898   119.28360037 112.93640083 102.81479964\n",
            " 159.95129778  98.93620029 147.16479866 125.63180085 169.83279883\n",
            " 126.21619801 127.39479725 127.43240193 113.75149954 112.73930074\n",
            " 123.38209896 102.2770989   89.28129979 124.32699961 101.74269909\n",
            " 106.97699896 113.66690061 117.39770091  99.02789926 121.77100048\n",
            " 163.43359932  87.31909873 106.7483997  116.99280102 127.69240107\n",
            " 124.09690064  80.77749904 120.3857008  158.79799839  88.00059938\n",
            " 110.26849941 119.18249919 172.62559901 103.07379888 105.78620033\n",
            " 122.6010001  158.59839829  87.78669804  93.42610047 112.7552003\n",
            " 176.95959952 114.73339958 119.35320013  94.59420117 125.4780006\n",
            " 165.94650126 114.83670041 116.76260119  88.36999874 149.17400193\n",
            " 120.31479935  89.40810024 111.97719982 116.95000002 118.84000105\n",
            "  88.38799935  94.1113001  117.21120022 118.67480182 120.4595007\n",
            " 126.80929841 121.8745997  149.2618008  164.26130063 118.61849953\n",
            " 120.3760014  150.58730067 118.5693992  172.341899   105.30009932\n",
            " 105.0607009  150.42290238 113.63500088 124.97670094 147.19210104\n",
            " 119.61580117 115.27580059 112.67299976 113.33840226 139.83500098\n",
            " 118.07719753 102.90120046 115.81620127 103.65850175  98.81150023\n",
            " 117.03420103  90.69030007  91.44370066 153.34269862 102.72030011\n",
            " 154.49010061 114.36980159 139.08060106  90.10879856 115.42670005\n",
            " 114.34369946 122.71400025 121.9014999  165.5814007   92.90719949\n",
            " 134.92470134 121.40899854 120.82640044 104.62919989 141.26570317\n",
            " 121.50539913 116.63260048 113.27360061 127.30119719 122.79979939\n",
            " 125.75209961 121.22729993  86.83299907 132.50160159 145.9453021\n",
            "  92.64119971 160.53259929 158.52260169 126.2288991  165.43039906\n",
            " 108.76849958 110.01810096 103.53179809  94.36690012 127.74630283\n",
            " 106.93290069 162.98879923 121.69150045 132.12680058 130.59030126\n",
            " 160.37919868  90.16189901 174.70840153 127.74320041 126.93619814\n",
            "  86.28919981 124.56249926 150.83369715  89.48920044 106.83579964\n",
            " 109.05649977  84.16309893 136.34709938 155.28710283 139.19710375\n",
            "  74.05280016 152.28080154 125.89450003 126.75240013 127.64709877\n",
            " 108.57769935 156.44790067 114.54760106 116.86340124 125.30759907\n",
            " 154.13270122 121.50030023 156.50859823  92.93120093 125.56760129\n",
            " 125.67090062  87.96930049  92.07459915 126.30169928 128.59080356\n",
            " 113.00940069 117.51049751 120.93020011 127.3149979  119.46870116\n",
            " 137.11600088  94.07089948 119.65970024 113.31280118  94.33129934\n",
            " 108.60109988  87.01309922 109.47399919  89.57390009  92.44170005\n",
            " 131.52660296 162.37630064  89.48559967 119.73900097 133.17300188\n",
            " 123.77020026 128.35370146 102.03799847  88.95749879 132.3298006\n",
            " 119.93620012 108.24030046 167.29320163 115.20070076  86.56199908\n",
            " 118.93980059  91.26259989 161.7608007  116.53800085 121.66090009\n",
            " 160.29789821 120.04489923 112.90559908 108.56509864 126.63759967\n",
            "  76.50479984 103.00379964 127.87050275 121.9184992   92.58320007\n",
            " 131.88300044 117.93990089 115.76329975 154.46190267 159.36790102\n",
            " 110.15139962 153.89449749 119.32450091 160.48930072 118.52080038\n",
            " 157.0301992  115.07229947 116.59750027 147.89609907 114.83810048\n",
            " 125.94759916 165.4548993  117.79870008 125.24699968 153.38940389\n",
            " 153.43660242 131.99850046 114.6917003  121.25300215 125.00660071\n",
            "  89.84940007 122.30930024 154.73980213 111.81710037 106.53299982\n",
            " 161.96040133 118.64809995 165.69459989 134.10250107 115.00299967\n",
            " 152.96659862 168.67509992 114.35349986 113.88400128 158.12369846\n",
            "  85.26079863 127.05280069 127.87240078 128.82239958 124.07880052\n",
            " 123.80830025  90.79390076 153.36540011  97.08479983 138.13039969\n",
            "  89.02649972 107.70449969 115.0437005  112.65500077 124.02919928\n",
            "  91.37439888 125.43280122 162.34129912 119.89859885 165.05890118\n",
            " 126.8624982  112.44590029 127.66109915  94.47769892  91.19639964\n",
            " 103.00219913 120.90829991  82.91609946 126.37439999 160.96510444\n",
            " 117.26700074 118.31320011 120.2353998  122.59670005 120.04390154\n",
            " 121.53379983 117.87650063 106.83730015 148.5802006  126.55449776\n",
            " 115.76560087  73.92880021 127.89230133 153.26450127 122.20320029\n",
            " 125.58280031  88.81860005 104.17429915 124.86950072 120.22690041\n",
            "  73.53130076 151.67060076 121.28810012 104.67640005  86.14249794\n",
            " 115.12339929 172.27239775 119.8581004  159.66229813 113.28740002\n",
            " 120.54189977 118.66410119  95.99449991 118.84320061 125.99370057\n",
            " 118.39449937  95.85000051 153.39650229 122.02650036 146.9780004\n",
            " 159.55280307 113.81050022 122.43899939 148.74529822 127.51489992\n",
            " 165.93310059 135.81700063 120.0716997  167.74189905 108.33889919\n",
            " 121.98269854 138.14540102 106.3875988 ]\n"
          ],
          "name": "stdout"
        }
      ]
    },
    {
      "cell_type": "code",
      "metadata": {
        "colab": {
          "base_uri": "https://localhost:8080/"
        },
        "id": "gLeRJjrh3oda",
        "outputId": "2bedeb67-6029-4e67-9efc-0c48838e5948"
      },
      "source": [
        "#R Squared Error\n",
        "error_score = metrics.r2_score(Y_test, test_data_prediction)\n",
        "print(\"R Squared Error : \", error_score)"
      ],
      "execution_count": 23,
      "outputs": [
        {
          "output_type": "stream",
          "text": [
            "R Squared Error :  0.989138725483113\n"
          ],
          "name": "stdout"
        }
      ]
    },
    {
      "cell_type": "markdown",
      "metadata": {
        "id": "qY4FxQjZ3xai"
      },
      "source": [
        "Compare the Actual Values and Predicted Values"
      ]
    },
    {
      "cell_type": "code",
      "metadata": {
        "id": "_vabm0RC3uM3"
      },
      "source": [
        "Y_test = list(Y_test)"
      ],
      "execution_count": 25,
      "outputs": []
    },
    {
      "cell_type": "code",
      "metadata": {
        "colab": {
          "base_uri": "https://localhost:8080/",
          "height": 295
        },
        "id": "YFIpL0cY3wMm",
        "outputId": "a952bfac-8249-4a14-db9f-d51395a775fe"
      },
      "source": [
        "plt.plot(Y_test, color='blue', label = 'Actual Value')\n",
        "plt.plot(test_data_prediction, color='green', label='Predicted Value')\n",
        "plt.title('Actual Price vs Predicted Price')\n",
        "plt.xlabel('Number of values')\n",
        "plt.ylabel('GLD Price')\n",
        "plt.legend()\n",
        "plt.show()"
      ],
      "execution_count": 26,
      "outputs": [
        {
          "output_type": "display_data",
          "data": {
            "image/png": "[encoded data removed]",
            "text/plain": [
              "<Figure size 432x288 with 1 Axes>"
            ]
          },
          "metadata": {
            "tags": [],
            "needs_background": "light"
          }
        }
      ]
    },
    {
      "cell_type": "code",
      "metadata": {
        "id": "7sk0igdK3134"
      },
      "source": [
        ""
      ],
      "execution_count": null,
      "outputs": []
    }
  ]
}